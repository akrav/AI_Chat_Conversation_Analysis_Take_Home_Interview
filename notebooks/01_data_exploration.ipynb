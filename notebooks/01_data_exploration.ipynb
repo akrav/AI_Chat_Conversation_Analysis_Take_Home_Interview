{
  "cells": [
    {
      "cell_type": "raw",
      "metadata": {
        "vscode": {
          "languageId": "raw"
        }
      },
      "source": [
        "# Data Exploration (HTTP-only)\n",
        "This notebook loads a small sample via the Hugging Face datasets-server rows API, converts to a DataFrame, and performs basic EDA.\n"
      ]
    },
    {
      "cell_type": "code",
      "execution_count": null,
      "metadata": {},
      "outputs": [],
      "source": [
        "from src.wildchat_loader import load_wildchat_subset\n",
        "from src.wildchat_to_dataframe import rows_to_dataframe, basic_eda_summary\n",
        "import seaborn as sns\n",
        "import matplotlib.pyplot as plt\n"
      ]
    },
    {
      "cell_type": "code",
      "execution_count": null,
      "metadata": {},
      "outputs": [],
      "source": [
        "rows = load_wildchat_subset(sample_size=500, prefer_http=True)\n",
        "df = rows_to_dataframe(rows)\n",
        "summary = basic_eda_summary(df)\n",
        "summary\n"
      ]
    },
    {
      "cell_type": "code",
      "execution_count": null,
      "metadata": {},
      "outputs": [],
      "source": [
        "# Language distribution (if present)\n",
        "if 'language' in df.columns:\n",
        "    plt.figure(figsize=(8,4))\n",
        "    sns.countplot(x='language', data=df)\n",
        "    plt.xticks(rotation=45)\n",
        "    plt.title('Language Distribution')\n",
        "    plt.tight_layout()\n",
        "    plt.show()\n"
      ]
    }
  ],
  "metadata": {
    "language_info": {
      "name": "python"
    }
  },
  "nbformat": 4,
  "nbformat_minor": 2
}
